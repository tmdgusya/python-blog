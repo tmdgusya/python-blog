{
 "cells": [
  {
   "cell_type": "markdown",
   "metadata": {},
   "source": [
    "## Python type 의 등장\n",
    "\n",
    "파이썬도 3.5 버전 부터 `typing` 이라는 모듈을 이용해서 이제 복잡한 타입을 정의할 수 있도록 해주었습니다. 다만 기본적으로 동적언어이기 때문에 runtime 시점에도 type checking 이 이뤄지는 것을 보장하지는 않습니다."
   ]
  },
  {
   "cell_type": "code",
   "execution_count": 11,
   "metadata": {},
   "outputs": [],
   "source": [
    "class Fruit():\n",
    "    name: str\n",
    "    color: str\n",
    "    weight: float\n",
    "    bazam: dict[str, list[tuple[int, bool, float]]]\n",
    "    \n",
    "    def __init__(self, name: str, color: str, weight: float, bazam: dict[str, list[tuple[int, bool, float]]]):\n",
    "        self.name = name\n",
    "        self.color = color\n",
    "        self.weight = weight\n",
    "        self.bazam = bazam\n",
    "        "
   ]
  },
  {
   "cell_type": "markdown",
   "metadata": {},
   "source": [
    "따라서 아래와 같은 방식으로 코드를 작성해도 문제없이 돌아갑니다."
   ]
  },
  {
   "cell_type": "code",
   "execution_count": 12,
   "metadata": {},
   "outputs": [
    {
     "data": {
      "text/plain": [
       "<__main__.Fruit at 0x7f724dc6bb60>"
      ]
     },
     "execution_count": 12,
     "metadata": {},
     "output_type": "execute_result"
    }
   ],
   "source": [
    "Fruit(name=1, color=1, weight=1, bazam=\"bazam\")"
   ]
  },
  {
   "cell_type": "markdown",
   "metadata": {},
   "source": [
    "Pydantic 을 이용하는 가장 쉬운 방법은 아래와 같이 클래스를 만들고 `Pydantic` 을 상속하도록 만드는 것이다."
   ]
  },
  {
   "cell_type": "code",
   "execution_count": 13,
   "metadata": {},
   "outputs": [
    {
     "data": {
      "text/plain": [
       "Fruit(name='apple', color='red', weight=100.0, bazam={'a': [(1, True, 1.0)]})"
      ]
     },
     "execution_count": 13,
     "metadata": {},
     "output_type": "execute_result"
    }
   ],
   "source": [
    "#!pip install pydantic\n",
    "from typing import Annotated, Literal\n",
    "from annotated_types import Gt # greater than x\n",
    "from pydantic import BaseModel, Field\n",
    "\n",
    "class Fruit(BaseModel):\n",
    "    name: str\n",
    "    color: Literal[\"red\", \"green\"]\n",
    "    weight: Annotated[float, Gt(0)]\n",
    "    bazam: dict[str, list[tuple[int, bool, float]]]\n",
    "    \n",
    "\n",
    "Fruit(name=\"apple\", color=\"red\", weight=100, bazam={\"a\": [(1, True, 1.0)]})"
   ]
  },
  {
   "cell_type": "code",
   "execution_count": 15,
   "metadata": {},
   "outputs": [
    {
     "ename": "ValidationError",
     "evalue": "3 validation errors for Fruit\nname\n  Input should be a valid string [type=string_type, input_value=1, input_type=int]\n    For further information visit https://errors.pydantic.dev/2.11/v/string_type\ncolor\n  Input should be 'red' or 'green' [type=literal_error, input_value=1, input_type=int]\n    For further information visit https://errors.pydantic.dev/2.11/v/literal_error\nbazam\n  Input should be a valid dictionary [type=dict_type, input_value='bazam', input_type=str]\n    For further information visit https://errors.pydantic.dev/2.11/v/dict_type",
     "output_type": "error",
     "traceback": [
      "\u001b[31m---------------------------------------------------------------------------\u001b[39m",
      "\u001b[31mValidationError\u001b[39m                           Traceback (most recent call last)",
      "\u001b[36mCell\u001b[39m\u001b[36m \u001b[39m\u001b[32mIn[15]\u001b[39m\u001b[32m, line 1\u001b[39m\n\u001b[32m----> \u001b[39m\u001b[32m1\u001b[39m \u001b[43mFruit\u001b[49m\u001b[43m(\u001b[49m\u001b[43mname\u001b[49m\u001b[43m=\u001b[49m\u001b[32;43m1\u001b[39;49m\u001b[43m,\u001b[49m\u001b[43m \u001b[49m\u001b[43mcolor\u001b[49m\u001b[43m=\u001b[49m\u001b[32;43m1\u001b[39;49m\u001b[43m,\u001b[49m\u001b[43m \u001b[49m\u001b[43mweight\u001b[49m\u001b[43m=\u001b[49m\u001b[32;43m1\u001b[39;49m\u001b[43m,\u001b[49m\u001b[43m \u001b[49m\u001b[43mbazam\u001b[49m\u001b[43m=\u001b[49m\u001b[33;43m\"\u001b[39;49m\u001b[33;43mbazam\u001b[39;49m\u001b[33;43m\"\u001b[39;49m\u001b[43m)\u001b[49m\n",
      "\u001b[36mFile \u001b[39m\u001b[32m~/python-blog/.venv/lib/python3.13/site-packages/pydantic/main.py:253\u001b[39m, in \u001b[36mBaseModel.__init__\u001b[39m\u001b[34m(self, **data)\u001b[39m\n\u001b[32m    251\u001b[39m \u001b[38;5;66;03m# `__tracebackhide__` tells pytest and some other tools to omit this function from tracebacks\u001b[39;00m\n\u001b[32m    252\u001b[39m __tracebackhide__ = \u001b[38;5;28;01mTrue\u001b[39;00m\n\u001b[32m--> \u001b[39m\u001b[32m253\u001b[39m validated_self = \u001b[38;5;28;43mself\u001b[39;49m\u001b[43m.\u001b[49m\u001b[43m__pydantic_validator__\u001b[49m\u001b[43m.\u001b[49m\u001b[43mvalidate_python\u001b[49m\u001b[43m(\u001b[49m\u001b[43mdata\u001b[49m\u001b[43m,\u001b[49m\u001b[43m \u001b[49m\u001b[43mself_instance\u001b[49m\u001b[43m=\u001b[49m\u001b[38;5;28;43mself\u001b[39;49m\u001b[43m)\u001b[49m\n\u001b[32m    254\u001b[39m \u001b[38;5;28;01mif\u001b[39;00m \u001b[38;5;28mself\u001b[39m \u001b[38;5;129;01mis\u001b[39;00m \u001b[38;5;129;01mnot\u001b[39;00m validated_self:\n\u001b[32m    255\u001b[39m     warnings.warn(\n\u001b[32m    256\u001b[39m         \u001b[33m'\u001b[39m\u001b[33mA custom validator is returning a value other than `self`.\u001b[39m\u001b[38;5;130;01m\\n\u001b[39;00m\u001b[33m'\u001b[39m\n\u001b[32m    257\u001b[39m         \u001b[33m\"\u001b[39m\u001b[33mReturning anything other than `self` from a top level model validator isn\u001b[39m\u001b[33m'\u001b[39m\u001b[33mt supported when validating via `__init__`.\u001b[39m\u001b[38;5;130;01m\\n\u001b[39;00m\u001b[33m\"\u001b[39m\n\u001b[32m    258\u001b[39m         \u001b[33m'\u001b[39m\u001b[33mSee the `model_validator` docs (https://docs.pydantic.dev/latest/concepts/validators/#model-validators) for more details.\u001b[39m\u001b[33m'\u001b[39m,\n\u001b[32m    259\u001b[39m         stacklevel=\u001b[32m2\u001b[39m,\n\u001b[32m    260\u001b[39m     )\n",
      "\u001b[31mValidationError\u001b[39m: 3 validation errors for Fruit\nname\n  Input should be a valid string [type=string_type, input_value=1, input_type=int]\n    For further information visit https://errors.pydantic.dev/2.11/v/string_type\ncolor\n  Input should be 'red' or 'green' [type=literal_error, input_value=1, input_type=int]\n    For further information visit https://errors.pydantic.dev/2.11/v/literal_error\nbazam\n  Input should be a valid dictionary [type=dict_type, input_value='bazam', input_type=str]\n    For further information visit https://errors.pydantic.dev/2.11/v/dict_type"
     ]
    }
   ],
   "source": [
    "Fruit(name=1, color=1, weight=1, bazam=\"bazam\")"
   ]
  },
  {
   "cell_type": "code",
   "execution_count": 16,
   "metadata": {},
   "outputs": [
    {
     "ename": "ValidationError",
     "evalue": "1 validation error for Fruit\ncolor\n  Input should be 'red' or 'green' [type=literal_error, input_value='yellow', input_type=str]\n    For further information visit https://errors.pydantic.dev/2.11/v/literal_error",
     "output_type": "error",
     "traceback": [
      "\u001b[31m---------------------------------------------------------------------------\u001b[39m",
      "\u001b[31mValidationError\u001b[39m                           Traceback (most recent call last)",
      "\u001b[36mCell\u001b[39m\u001b[36m \u001b[39m\u001b[32mIn[16]\u001b[39m\u001b[32m, line 1\u001b[39m\n\u001b[32m----> \u001b[39m\u001b[32m1\u001b[39m \u001b[43mFruit\u001b[49m\u001b[43m(\u001b[49m\u001b[43mname\u001b[49m\u001b[43m=\u001b[49m\u001b[33;43m\"\u001b[39;49m\u001b[33;43mbanana\u001b[39;49m\u001b[33;43m\"\u001b[39;49m\u001b[43m,\u001b[49m\u001b[43m \u001b[49m\u001b[43mcolor\u001b[49m\u001b[43m=\u001b[49m\u001b[33;43m\"\u001b[39;49m\u001b[33;43myellow\u001b[39;49m\u001b[33;43m\"\u001b[39;49m\u001b[43m,\u001b[49m\u001b[43m \u001b[49m\u001b[43mweight\u001b[49m\u001b[43m=\u001b[49m\u001b[32;43m100\u001b[39;49m\u001b[43m,\u001b[49m\u001b[43m \u001b[49m\u001b[43mbazam\u001b[49m\u001b[43m=\u001b[49m\u001b[43m{\u001b[49m\u001b[33;43m\"\u001b[39;49m\u001b[33;43ma\u001b[39;49m\u001b[33;43m\"\u001b[39;49m\u001b[43m:\u001b[49m\u001b[43m \u001b[49m\u001b[43m[\u001b[49m\u001b[43m(\u001b[49m\u001b[32;43m1\u001b[39;49m\u001b[43m,\u001b[49m\u001b[43m \u001b[49m\u001b[38;5;28;43;01mTrue\u001b[39;49;00m\u001b[43m,\u001b[49m\u001b[43m \u001b[49m\u001b[32;43m1.0\u001b[39;49m\u001b[43m)\u001b[49m\u001b[43m]\u001b[49m\u001b[43m}\u001b[49m\u001b[43m)\u001b[49m\n",
      "\u001b[36mFile \u001b[39m\u001b[32m~/python-blog/.venv/lib/python3.13/site-packages/pydantic/main.py:253\u001b[39m, in \u001b[36mBaseModel.__init__\u001b[39m\u001b[34m(self, **data)\u001b[39m\n\u001b[32m    251\u001b[39m \u001b[38;5;66;03m# `__tracebackhide__` tells pytest and some other tools to omit this function from tracebacks\u001b[39;00m\n\u001b[32m    252\u001b[39m __tracebackhide__ = \u001b[38;5;28;01mTrue\u001b[39;00m\n\u001b[32m--> \u001b[39m\u001b[32m253\u001b[39m validated_self = \u001b[38;5;28;43mself\u001b[39;49m\u001b[43m.\u001b[49m\u001b[43m__pydantic_validator__\u001b[49m\u001b[43m.\u001b[49m\u001b[43mvalidate_python\u001b[49m\u001b[43m(\u001b[49m\u001b[43mdata\u001b[49m\u001b[43m,\u001b[49m\u001b[43m \u001b[49m\u001b[43mself_instance\u001b[49m\u001b[43m=\u001b[49m\u001b[38;5;28;43mself\u001b[39;49m\u001b[43m)\u001b[49m\n\u001b[32m    254\u001b[39m \u001b[38;5;28;01mif\u001b[39;00m \u001b[38;5;28mself\u001b[39m \u001b[38;5;129;01mis\u001b[39;00m \u001b[38;5;129;01mnot\u001b[39;00m validated_self:\n\u001b[32m    255\u001b[39m     warnings.warn(\n\u001b[32m    256\u001b[39m         \u001b[33m'\u001b[39m\u001b[33mA custom validator is returning a value other than `self`.\u001b[39m\u001b[38;5;130;01m\\n\u001b[39;00m\u001b[33m'\u001b[39m\n\u001b[32m    257\u001b[39m         \u001b[33m\"\u001b[39m\u001b[33mReturning anything other than `self` from a top level model validator isn\u001b[39m\u001b[33m'\u001b[39m\u001b[33mt supported when validating via `__init__`.\u001b[39m\u001b[38;5;130;01m\\n\u001b[39;00m\u001b[33m\"\u001b[39m\n\u001b[32m    258\u001b[39m         \u001b[33m'\u001b[39m\u001b[33mSee the `model_validator` docs (https://docs.pydantic.dev/latest/concepts/validators/#model-validators) for more details.\u001b[39m\u001b[33m'\u001b[39m,\n\u001b[32m    259\u001b[39m         stacklevel=\u001b[32m2\u001b[39m,\n\u001b[32m    260\u001b[39m     )\n",
      "\u001b[31mValidationError\u001b[39m: 1 validation error for Fruit\ncolor\n  Input should be 'red' or 'green' [type=literal_error, input_value='yellow', input_type=str]\n    For further information visit https://errors.pydantic.dev/2.11/v/literal_error"
     ]
    }
   ],
   "source": [
    "Fruit(name=\"banana\", color=\"yellow\", weight=100, bazam={\"a\": [(1, True, 1.0)]})"
   ]
  },
  {
   "cell_type": "markdown",
   "metadata": {},
   "source": [
    "공식문서에 보기 좋게 [Pydantic](https://www.youtube.com/watch?v=pWZw7hYoRVU) 이 어떻게 동작하는지 설명하고 있는데, 한번 궁금하신 분들은 보셔도 좋을듯 합니다. "
   ]
  },
  {
   "cell_type": "markdown",
   "metadata": {},
   "source": [
    "## 직렬화(Serialization)\n",
    "\n",
    "직렬화는 객체를 byte 형태로 바꾸는 것을 뜻합니다. 우리가 보통 **API** 를 만든다고 할때, 외부에서 프로그램에 어떠한 호출을 하게되면 프로그램 내부에서 외부로 데이터가 나가야 할때가 있습니다. \n",
    "이럴때 우리가 사용하는 객체를 직렬화 해야하는데요. Pydantic 은 직렬화를 아래 세가지 방식으로 지원합니다.\n",
    "\n",
    "- 파이썬 객체로 이루어진 `dict` 로 변환\n",
    "- JSON 으로 변환 가능한 타입으로만 이루어진 `dict` 로 변환\n",
    "- JSON 문자열로 변환\n",
    "\n",
    "세가지 방식에 대해서는 사실 예제와 함께 알아보는게 쉬워서 예제와 함께 알아보도록 하겠습니다."
   ]
  },
  {
   "cell_type": "markdown",
   "metadata": {},
   "source": [
    "### 파이썬 객체로 이루어진 `dict` 로 변환"
   ]
  },
  {
   "cell_type": "code",
   "execution_count": 17,
   "metadata": {},
   "outputs": [
    {
     "name": "stdout",
     "output_type": "stream",
     "text": [
      "방법 1: model_dump() 결과 (Python 객체 유지)\n",
      "타입: <class 'dict'>\n",
      "내용: {'id': 123, 'username': 'pydantic_lover', 'signup_ts': datetime.datetime(2023, 4, 15, 10, 30), 'friends': [1, 2, 3], 'is_active': True}\n",
      "signup_ts의 타입: <class 'datetime.datetime'>\n",
      "------------------------------\n"
     ]
    }
   ],
   "source": [
    "from pydantic import BaseModel\n",
    "from datetime import datetime\n",
    "from typing import Optional, List\n",
    "\n",
    "class User(BaseModel):\n",
    "    id: int\n",
    "    username: str\n",
    "    signup_ts: Optional[datetime] = None\n",
    "    friends: List[int] = []\n",
    "    is_active: bool = True\n",
    "\n",
    "user_data = {\n",
    "    \"id\": 123,\n",
    "    \"username\": \"pydantic_lover\",\n",
    "    \"signup_ts\": datetime(2023, 4, 15, 10, 30, 0),\n",
    "    \"friends\": [1, 2, 3]\n",
    "}\n",
    "user_instance = User(**user_data)\n",
    "\n",
    "# 방법 1: 파이썬 객체로 이루어진 dict로 변환\n",
    "python_dict_objects = user_instance.model_dump()\n",
    "\n",
    "print(f\"타입: {type(python_dict_objects)}\")\n",
    "print(f\"내용: {python_dict_objects}\")\n",
    "\n",
    "if 'signup_ts' in python_dict_objects and python_dict_objects['signup_ts'] is not None:\n",
    "    print(f\"signup_ts의 타입: {type(python_dict_objects['signup_ts'])}\")\n",
    "else:\n",
    "    print(\"signup_ts 필드가 없거나 None입니다.\")\n",
    "print(\"-\" * 30)"
   ]
  },
  {
   "cell_type": "markdown",
   "metadata": {},
   "source": [
    "코드를 보면 `model_dump()` 실행후 타입이 `dict` 타입으로 변한것을 확인할 수 있습니다. Dictionary 의 출력값을 확인해봐도 값을 그대로 보존한채 dictionary 형태로만 바뀐것을 확인할 수 있습니다."
   ]
  },
  {
   "cell_type": "markdown",
   "metadata": {},
   "source": [
    "### JSON 으로 변환 가능한 타입으로만 이루어진 `dict` 로 변환"
   ]
  },
  {
   "cell_type": "code",
   "execution_count": 19,
   "metadata": {},
   "outputs": [
    {
     "name": "stdout",
     "output_type": "stream",
     "text": [
      "방법 2: model_dump(mode='json') 결과 (JSON 호환 타입)\n",
      "타입: <class 'dict'>\n",
      "내용: {'id': 123, 'username': 'pydantic_lover', 'signup_ts': '2023-04-15T10:30:00', 'friends': [1, 2, 3], 'is_active': True}\n",
      "signup_ts의 타입: <class 'str'>\n",
      "------------------------------\n"
     ]
    }
   ],
   "source": [
    "from pydantic import BaseModel\n",
    "from datetime import datetime\n",
    "from typing import Optional, List\n",
    "\n",
    "class User(BaseModel):\n",
    "    id: int\n",
    "    username: str\n",
    "    signup_ts: Optional[datetime] = None\n",
    "    friends: List[int] = []\n",
    "    is_active: bool = True\n",
    "\n",
    "user_data = {\n",
    "    \"id\": 123,\n",
    "    \"username\": \"pydantic_lover\",\n",
    "    \"signup_ts\": datetime(2023, 4, 15, 10, 30, 0),\n",
    "    \"friends\": [1, 2, 3]\n",
    "}\n",
    "user_instance = User(**user_data)\n",
    "\n",
    "jsonable_dict = user_instance.model_dump(mode='json')\n",
    "\n",
    "print(f\"타입: {type(jsonable_dict)}\")\n",
    "print(f\"내용: {jsonable_dict}\")\n",
    "\n",
    "if 'signup_ts' in jsonable_dict and jsonable_dict['signup_ts'] is not None:\n",
    "    print(f\"signup_ts의 타입: {type(jsonable_dict['signup_ts'])}\")\n",
    "else:\n",
    "    print(\"signup_ts 필드가 없거나 None입니다.\")\n",
    "print(\"-\" * 30)"
   ]
  },
  {
   "cell_type": "markdown",
   "metadata": {},
   "source": [
    "살짝 햇갈리지만 잘 알아둬야 하는 부분은 `jsonable` 하다는 것입니다. 보시면 `signup_ts` 가 ISO 8601 형태로 변한것을 확인할 수 있는데요. \n",
    "이는 JSON 은 python datetime object 를 이해하지 못하기에 ISO 8601 로 변환하여 json 변환 가능한 상태로 변한것을 확인할 수 있습니다. \n",
    "한번 jsonalble 이 dump 가 잘되는지도 확인해볼까요?"
   ]
  },
  {
   "cell_type": "code",
   "execution_count": 20,
   "metadata": {},
   "outputs": [
    {
     "name": "stdout",
     "output_type": "stream",
     "text": [
      "JSON 문자열: {\"id\": 123, \"username\": \"pydantic_lover\", \"signup_ts\": \"2023-04-15T10:30:00\", \"friends\": [1, 2, 3], \"is_active\": true}\n",
      "------------------------------\n"
     ]
    }
   ],
   "source": [
    "import json\n",
    "\n",
    "json_string = json.dumps(jsonable_dict)\n",
    "print(f\"JSON 문자열: {json_string}\")\n",
    "print(\"-\" * 30)"
   ]
  },
  {
   "cell_type": "markdown",
   "metadata": {},
   "source": [
    "### JSON 문자열로 변환"
   ]
  },
  {
   "cell_type": "code",
   "execution_count": null,
   "metadata": {},
   "outputs": [],
   "source": [
    "from pydantic import BaseModel\n",
    "from datetime import datetime\n",
    "from typing import Optional, List\n",
    "\n",
    "class User(BaseModel):\n",
    "    id: int\n",
    "    username: str\n",
    "    signup_ts: Optional[datetime] = None\n",
    "    friends: List[int] = []\n",
    "    is_active: bool = True\n",
    "\n",
    "user_data = {\n",
    "    \"id\": 123,\n",
    "    \"username\": \"pydantic_lover\",\n",
    "    \"signup_ts\": datetime(2023, 4, 15, 10, 30, 0),\n",
    "    \"friends\": [1, 2, 3]\n",
    "}\n",
    "user_instance = User(**user_data)\n",
    "\n",
    "json_string = user_instance.model_dump_json()\n",
    "\n",
    "print(f\"타입: {type(json_string)}\")\n",
    "print(f\"내용: {json_string}\")\n",
    "print(\"-\" * 30)"
   ]
  }
 ],
 "metadata": {
  "kernelspec": {
   "display_name": ".venv",
   "language": "python",
   "name": "python3"
  },
  "language_info": {
   "codemirror_mode": {
    "name": "ipython",
    "version": 3
   },
   "file_extension": ".py",
   "mimetype": "text/x-python",
   "name": "python",
   "nbconvert_exporter": "python",
   "pygments_lexer": "ipython3",
   "version": "3.13.2"
  }
 },
 "nbformat": 4,
 "nbformat_minor": 2
}
